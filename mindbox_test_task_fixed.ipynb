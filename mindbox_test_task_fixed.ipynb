{
 "cells": [
  {
   "cell_type": "markdown",
   "metadata": {},
   "source": [
    "Компании нужно сгруппировать клиентов для АБ-тестов. Алгоритм группировки простой - взять ID клиента (состоит из 5-7 цифр, например 7412567) и найти сумму всех его цифр. Получившееся число и является номером группы, в которую входит данный клиент.\n",
    "\n",
    "Для того, чтобы понять насколько хорош такой простой алгоритм, нужно написать следующие диагностические функции:\n",
    "\n",
    "Задача 1. Функция, которая подсчитывает число покупателей, попадающих в каждую группу, если нумерация ID сквозная и начинается с 0. На вход функция получает целое число n_customers (количество клиентов).  \n",
    "\n",
    "Задача 2. Функция, аналогичная первой, если ID начинается с произвольного числа. На вход функция получает целые числа: n_customers (количество клиентов) и n_first_id (первый ID в последовательности).\n",
    "\n",
    "Напишите код функций на Python."
   ]
  },
  {
   "cell_type": "code",
   "execution_count": 1,
   "metadata": {},
   "outputs": [],
   "source": [
    "# Вариант решения №1\n",
    "\n",
    "import pandas as pd\n",
    "import numpy as np\n",
    "\n",
    "def id_to_group(id):\n",
    "    \"Функция присвоения номера группы для ID клиента\"\n",
    "    return sum(map(int, str(id)))\n",
    "\n",
    "# Задача 1\n",
    "\n",
    "def group_id_count_1(n_customers):\n",
    "    \"Функция подсчёта количества клиентов в группе\"\n",
    "    \"при общем количестве клиентов n_customers\"\n",
    "    \"и сквозной нумерации клиентов, начиная с 0\"\n",
    "    return dict(pd.Series(\n",
    "        data=np.arange(n_customers)\n",
    "    ).apply(id_to_group).value_counts())\n",
    "\n",
    "# Задача 2\n",
    "\n",
    "def group_id_count_2(n_customers, n_first_id):\n",
    "    \"Функция подсчёта количества клиентов в группе\"\n",
    "    \"при общем количестве клиентов n_customers\"\n",
    "    \"и сквозной нумерации клиентов, начиная с n_first_id\"\n",
    "    return dict(pd.Series(\n",
    "        data=np.arange(n_first_id, n_customers + n_first_id)\n",
    "    ).apply(id_to_group).value_counts())\n"
   ]
  },
  {
   "cell_type": "code",
   "execution_count": 2,
   "metadata": {},
   "outputs": [
    {
     "name": "stdout",
     "output_type": "stream",
     "text": [
      "Клиент 7412567 определён в группу 32\n",
      "Количество клиентов в группе 32 при общем количестве клиентов 999999 при условии 1  = 43917\n",
      "Количество клиентов в группе 32 при общем количестве клиентов 999999 при условии 2  = 44422\n",
      "\n"
     ]
    }
   ],
   "source": [
    "# Проверка:\n",
    "# Определим номер группы клиента.\n",
    "# Проверим количество клиентов из той же группы используя условия из задачи.\n",
    "\n",
    "id = 7412567\n",
    "n_customers = 999999\n",
    "n_first_id = 99999\n",
    "\n",
    "group = id_to_group(id)\n",
    "\n",
    "print(\n",
    "    f\"Клиент {id} определён в группу {group}\\n\",\n",
    "    f\"Количество клиентов в группе {group} при общем количестве клиентов {n_customers} \"\n",
    "    f\"при условии 1  = {dict(group_id_count_1(n_customers))[group]}\\n\"\n",
    "    f\"Количество клиентов в группе {group} при общем количестве клиентов {n_customers} \"\n",
    "    f\"при условии 2  = {dict(group_id_count_2(n_customers, n_first_id))[group]}\\n\",\n",
    "    sep=''\n",
    ")\n"
   ]
  },
  {
   "cell_type": "code",
   "execution_count": 3,
   "metadata": {},
   "outputs": [],
   "source": [
    "# Вариант решения №2\n",
    "\n",
    "def id_to_group(id):\n",
    "    \"Функция присвоения номера группы для ID клиента\"\n",
    "    return sum(map(int,str(id)))\n",
    "\n",
    "# Задача 1\n",
    "def group_id_count_1(n_customers):\n",
    "    \"Функция подсчёта количества клиентов в группе\"\n",
    "    \"при общем количестве клиентов n_customers\"\n",
    "    \"и сквозной нумерации клиентов, начиная с 0\"\n",
    "    groupped_id = list(map(id_to_group, range(n_customers)))\n",
    "    id_in_group_counts = {}\n",
    "    for group in set(groupped_id):\n",
    "        id_in_group_counts[group] = groupped_id.count(group)\n",
    "    return id_in_group_counts\n",
    "\n",
    "# Задача 2\n",
    "def group_id_count_2 (n_customers, n_first_id):\n",
    "    \"Функция подсчёта количества клиентов в группе\"\n",
    "    \"при общем количестве клиентов n_customers\"\n",
    "    \"и сквозной нумерации клиентов, начиная с n_first_id\"\n",
    "    groupped_id = list(map(id_to_group, range(n_first_id, n_customers + n_first_id)))\n",
    "    id_in_group_counts = {}\n",
    "    for group in set(groupped_id):\n",
    "        id_in_group_counts[group] = groupped_id.count(group)\n",
    "    return id_in_group_counts"
   ]
  },
  {
   "cell_type": "code",
   "execution_count": 4,
   "metadata": {},
   "outputs": [
    {
     "name": "stdout",
     "output_type": "stream",
     "text": [
      "Клиент 7412567 определён в группу 32\n",
      "Количество клиентов в группе 32 при общем количестве клиентов 999999 при условии 1  = 43917\n",
      "Количество клиентов в группе 32 при общем количестве клиентов 999999 при условии 2  = 44422\n",
      "\n"
     ]
    }
   ],
   "source": [
    "# Проверка:\n",
    "# Определим номер группы клиента. \n",
    "# Проверим количество клиентов из той же группы используя условия из задачи.\n",
    "\n",
    "id = 7412567\n",
    "n_customers = 999999\n",
    "n_first_id = 99999\n",
    "\n",
    "group = id_to_group(id)\n",
    "\n",
    "print(\n",
    "    f\"Клиент {id} определён в группу {group}\\n\",\n",
    "    f\"Количество клиентов в группе {group} при общем количестве клиентов {n_customers} \"\n",
    "    f\"при условии 1  = {dict(group_id_count_1(n_customers))[group]}\\n\"\n",
    "    f\"Количество клиентов в группе {group} при общем количестве клиентов {n_customers} \"\n",
    "    f\"при условии 2  = {dict(group_id_count_2(n_customers, n_first_id))[group]}\\n\",\n",
    "    sep=''\n",
    "    )"
   ]
  }
 ],
 "metadata": {
  "kernelspec": {
   "display_name": "Python 3.8.8 ('base')",
   "language": "python",
   "name": "python3"
  },
  "language_info": {
   "codemirror_mode": {
    "name": "ipython",
    "version": 3
   },
   "file_extension": ".py",
   "mimetype": "text/x-python",
   "name": "python",
   "nbconvert_exporter": "python",
   "pygments_lexer": "ipython3",
   "version": "3.8.8"
  },
  "orig_nbformat": 4,
  "vscode": {
   "interpreter": {
    "hash": "d002e0e666b1f9cc6c7dd75f3a12565f13bd3af3764c1afb5ef3aa6bded9318d"
   }
  }
 },
 "nbformat": 4,
 "nbformat_minor": 2
}
